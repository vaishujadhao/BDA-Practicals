{
 "cells": [
  {
   "cell_type": "markdown",
   "id": "1857ab84",
   "metadata": {},
   "source": [
    "# Aim: To perform hypothesis testing using ANOVAv(F-Test) One Way F-Test (Anova)"
   ]
  },
  {
   "cell_type": "code",
   "execution_count": 1,
   "id": "629d7b3b",
   "metadata": {},
   "outputs": [],
   "source": [
    "# Name: Vaishnavi Prakash Jadhao\n",
    "#Roll No: 32\n",
    "#Sec: A"
   ]
  },
  {
   "cell_type": "code",
   "execution_count": 2,
   "id": "3bbe85af",
   "metadata": {},
   "outputs": [
    {
     "name": "stdout",
     "output_type": "stream",
     "text": [
      "p-value is:  0.04043792126789144\n",
      " We can reject the null hypothesis\n"
     ]
    }
   ],
   "source": [
    "# Python program to implement One-Way f-test\n",
    "\n",
    "# Importing the required libraries\n",
    "import scipy.stats\n",
    "\n",
    "# Creating sample data\n",
    "data1 = [0.0842, 0.0368, 0.0847, 0.0935, 0.0376, 0.0963, 0.0684,\n",
    " 0.0758, 0.0854, 0.0855]\n",
    "data2 = [0.0785, 0.0845, 0.0758, 0.0853, 0.0946, 0.0785, 0.0853,\n",
    " 0.0685]\n",
    "data3 = [0.0864, 0.2522, 0.0894, 0.2724, 0.0853, 0.1367, 0.853]\n",
    "\n",
    "# Performing the F-Test\n",
    "f_test, p_val = scipy.stats.f_oneway(data1, data2, data3)\n",
    "print(\"p-value is: \", p_val)\n",
    "\n",
    "# taking the threshold value as 0.05 or 5%\n",
    "if p_val < 0.05:\n",
    " print(\" We can reject the null hypothesis\")\n",
    "else:\n",
    " print(\"We can accept the null hypothesis\")"
   ]
  },
  {
   "cell_type": "code",
   "execution_count": null,
   "id": "b33a424d",
   "metadata": {},
   "outputs": [],
   "source": []
  }
 ],
 "metadata": {
  "kernelspec": {
   "display_name": "Python 3 (ipykernel)",
   "language": "python",
   "name": "python3"
  },
  "language_info": {
   "codemirror_mode": {
    "name": "ipython",
    "version": 3
   },
   "file_extension": ".py",
   "mimetype": "text/x-python",
   "name": "python",
   "nbconvert_exporter": "python",
   "pygments_lexer": "ipython3",
   "version": "3.11.5"
  }
 },
 "nbformat": 4,
 "nbformat_minor": 5
}
