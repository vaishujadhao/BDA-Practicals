{
 "cells": [
  {
   "cell_type": "markdown",
   "id": "0d5ee2bf",
   "metadata": {},
   "source": [
    "# To perform hypothesis testing using Z-Test"
   ]
  },
  {
   "cell_type": "code",
   "execution_count": 1,
   "id": "fb711da8",
   "metadata": {},
   "outputs": [],
   "source": [
    "#Name: Vaishnavi Prakash Jadhao\n",
    "#Roll No: 32\n",
    "#Sec: A"
   ]
  },
  {
   "cell_type": "code",
   "execution_count": 2,
   "id": "c520e5f9",
   "metadata": {},
   "outputs": [
    {
     "name": "stdout",
     "output_type": "stream",
     "text": [
      "[46 84 27 46 10 32 67 15 69 75 78 46 61 12 56 93 60 77  7 24 33 58 78 54\n",
      " 20 33 43 12 54 70 51 96 68 84 37 29 84 31 11 80 60 84 44 52 63 73 35 51\n",
      "  1 90]\n"
     ]
    }
   ],
   "source": [
    "import numpy as np\n",
    "a=np.random.randint(1,100,50)\n",
    "print(a)"
   ]
  },
  {
   "cell_type": "code",
   "execution_count": 3,
   "id": "309ec4c4",
   "metadata": {},
   "outputs": [
    {
     "data": {
      "text/plain": [
       "50"
      ]
     },
     "execution_count": 3,
     "metadata": {},
     "output_type": "execute_result"
    }
   ],
   "source": [
    "len(a)"
   ]
  },
  {
   "cell_type": "code",
   "execution_count": 4,
   "id": "938ad6d8",
   "metadata": {},
   "outputs": [],
   "source": [
    "import pandas as pd\n",
    "from scipy import stats\n",
    "from statsmodels.stats import weightstats as stests"
   ]
  },
  {
   "cell_type": "code",
   "execution_count": 5,
   "id": "21506612",
   "metadata": {},
   "outputs": [
    {
     "name": "stdout",
     "output_type": "stream",
     "text": [
      "[ 51  47  30  93  90  22 100   1  91  38   8   2  76   8  95  94  90   6\n",
      "  29  48  31  90  57  30  64  54  87   3 100  86  76  88   6  22  30  71\n",
      "  71  32  36   7  63  22  24  87  48  12  38  91  86  54]\n"
     ]
    }
   ],
   "source": [
    "# Generate 50 random integers between 1 and 100\n",
    "random_numbers = np.random.randint(1, 101, size=50)\n",
    "\n",
    "print(random_numbers)"
   ]
  },
  {
   "cell_type": "code",
   "execution_count": 6,
   "id": "cb81c4a0",
   "metadata": {},
   "outputs": [],
   "source": [
    "a=[61,93,84,14,61,45,59,37,21,95,60,24,52,30,82,23,26,59,60,67,29,80,15,47,\n",
    "  61,55,47,31,65,53,55,28,26,8,42,52,46,48,51,31,51,31,81,38,51,35,33,60,53,28,72,64]"
   ]
  },
  {
   "cell_type": "code",
   "execution_count": 7,
   "id": "fae38a56",
   "metadata": {},
   "outputs": [
    {
     "name": "stdout",
     "output_type": "stream",
     "text": [
      "1.684641312810732e-73\n"
     ]
    }
   ],
   "source": [
    "z_test, p_val=stests.ztest(a, x2=None, value=100)\n",
    "print(p_val)"
   ]
  },
  {
   "cell_type": "code",
   "execution_count": 8,
   "id": "f9ea81ad",
   "metadata": {},
   "outputs": [
    {
     "name": "stdout",
     "output_type": "stream",
     "text": [
      "We are rejecting null Hypothesis\n"
     ]
    }
   ],
   "source": [
    "if p_val<0.05:\n",
    "    print(\"We are rejecting null Hypothesis\")\n",
    "else:\n",
    "    print(\"We are accepting null Hypothesis\")"
   ]
  },
  {
   "cell_type": "code",
   "execution_count": null,
   "id": "f7700cdd",
   "metadata": {},
   "outputs": [],
   "source": []
  }
 ],
 "metadata": {
  "kernelspec": {
   "display_name": "Python 3 (ipykernel)",
   "language": "python",
   "name": "python3"
  },
  "language_info": {
   "codemirror_mode": {
    "name": "ipython",
    "version": 3
   },
   "file_extension": ".py",
   "mimetype": "text/x-python",
   "name": "python",
   "nbconvert_exporter": "python",
   "pygments_lexer": "ipython3",
   "version": "3.11.5"
  }
 },
 "nbformat": 4,
 "nbformat_minor": 5
}
